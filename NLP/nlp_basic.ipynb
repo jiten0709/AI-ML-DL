{
 "cells": [
  {
   "cell_type": "markdown",
   "metadata": {},
   "source": [
    "# steps\n",
    "\n",
    "- preprocess the text data by tokenizing and padding sequences\n",
    "- use a pre-trained model for sentiment analysis or train a model from scratch using tensorflow\n",
    "- train the model and monitor the performance using accuracy, precision, recall, and f1-score\n",
    "- evaluate and visualize the model performance using confusion matrix"
   ]
  },
  {
   "cell_type": "code",
   "execution_count": null,
   "metadata": {},
   "outputs": [],
   "source": [
    "%pip install datasets"
   ]
  },
  {
   "cell_type": "markdown",
   "metadata": {},
   "source": [
    "#  using pre-trained model"
   ]
  },
  {
   "cell_type": "code",
   "execution_count": null,
   "metadata": {},
   "outputs": [],
   "source": [
    "from transformers import pipeline\n",
    "\n",
    "sentiment_analysis = pipeline(\"sentiment-analysis\")\n",
    "\n",
    "texts = [\"i loved this movie\", \"this movie was terrible\", \"this movie was the worst movie i have ever seen\"]\n",
    "\n",
    "results = sentiment_analysis(texts)\n",
    "\n",
    "for text, result in zip(texts, results):\n",
    "    print(f\"Text: {text}\")\n",
    "    print(f\"Sentiment: {result['label']}\")\n",
    "    print(f\"Confidence: {result['score']}\")\n",
    "    print(\"-------------------------\")"
   ]
  },
  {
   "cell_type": "markdown",
   "metadata": {},
   "source": [
    "# using custom model"
   ]
  },
  {
   "cell_type": "code",
   "execution_count": 26,
   "metadata": {},
   "outputs": [],
   "source": [
    "import tensorflow_datasets as tfds\n",
    "import tensorflow as tf\n",
    "import numpy as np\n",
    "from tensorflow.keras.preprocessing.text import Tokenizer\n",
    "from tensorflow.keras.preprocessing.sequence import pad_sequences\n",
    "from tensorflow.keras.layers import Embedding, LSTM, Dense\n",
    "from tensorflow.keras.models import Sequential\n",
    "from tensorflow.keras.callbacks import EarlyStopping\n",
    "\n"
   ]
  },
  {
   "cell_type": "code",
   "execution_count": null,
   "metadata": {},
   "outputs": [],
   "source": [
    "# load the imdb reviews dataset\n",
    "\n",
    "(train_data, test_data), info = tfds.load(\"imdb_reviews\", split=[\"train\", \"test\"], with_info=True, as_supervised=True)"
   ]
  },
  {
   "cell_type": "code",
   "execution_count": null,
   "metadata": {},
   "outputs": [],
   "source": [
    "# Function to preprocess the text\n",
    "def preprocess_text(text, label):\n",
    "    text = tf.strings.lower(text)\n",
    "    return text, label\n",
    "\n",
    "# Apply the preprocessing function to the dataset\n",
    "train_data = train_data.map(preprocess_text)\n",
    "test_data = test_data.map(preprocess_text)\n",
    "\n",
    "# Collect the texts and labels\n",
    "train_texts = []\n",
    "train_labels = []\n",
    "for text, label in tfds.as_numpy(train_data):\n",
    "    train_texts.append(text.decode('utf-8'))\n",
    "    train_labels.append(label)"
   ]
  },
  {
   "cell_type": "code",
   "execution_count": null,
   "metadata": {},
   "outputs": [],
   "source": [
    "# Tokenize the texts\n",
    " \n",
    "tokenizer = Tokenizer(num_words=1000, oov_token=\"<00V>\")\n",
    "tokenizer.fit_on_texts(train_texts)\n",
    "sequences = tokenizer.texts_to_sequences(train_texts)\n",
    "\n",
    "# Pad the sequences\n",
    "\n",
    "padded_sequences = pad_sequences(sequences, maxlen=100)\n",
    "\n",
    "assert len(padded_sequences) == len(train_labels), \"Mismatch in number of samples between padded_sequences and train_labels\"\n",
    "print(\"len of padded_sequences: \", len(padded_sequences))\n",
    "print(\"len of train_labels: \", len(train_labels))\n",
    "\n",
    "# Convert train_labels to a numpy array\n",
    "train_labels = np.array(train_labels)\n",
    "\n"
   ]
  },
  {
   "cell_type": "code",
   "execution_count": null,
   "metadata": {},
   "outputs": [],
   "source": [
    "# Define the model\n",
    "\n",
    "model = Sequential([\n",
    "    Embedding(input_dim=1000, output_dim=16, input_length=100),\n",
    "    LSTM(32),\n",
    "    Dense(1, activation='sigmoid')\n",
    "])\n",
    "\n",
    "model.compile(loss='binary_crossentropy', optimizer='adam', metrics=['accuracy'])\n",
    "\n",
    "# Define early stopping callback\n",
    "\n",
    "early_stopping = EarlyStopping(monitor='val_loss', patience=2, restore_best_weights=True)\n",
    "\n",
    "# Train the model with early stopping\n",
    "\n",
    "history = model.fit(padded_sequences, train_labels, epochs=10, validation_split=0.2, callbacks=[early_stopping])\n"
   ]
  },
  {
   "cell_type": "code",
   "execution_count": null,
   "metadata": {},
   "outputs": [],
   "source": [
    "# Evaluate the model\n",
    "\n",
    "test_texts = []\n",
    "test_labels = []\n",
    "for text, label in tfds.as_numpy(test_data):\n",
    "    test_texts.append(text.decode('utf-8'))\n",
    "    test_labels.append(label)\n",
    "\n",
    "test_sequences = tokenizer.texts_to_sequences(test_texts)\n",
    "padded_test_sequences = pad_sequences(test_sequences, maxlen=100)\n",
    "test_labels = np.array(test_labels)\n",
    "\n",
    "test_loss, test_accuracy = model.evaluate(padded_test_sequences, test_labels)\n",
    "print(f'Test loss: {test_loss}, test accuracy: {test_accuracy}')"
   ]
  },
  {
   "cell_type": "code",
   "execution_count": null,
   "metadata": {},
   "outputs": [],
   "source": [
    "# Function to preprocess and predict custom query\n",
    "\n",
    "def predict_custom_query(query):\n",
    "    query = query.lower()\n",
    "    query_sequence = tokenizer.texts_to_sequences([query])\n",
    "    padded_query_sequence = pad_sequences(query_sequence, maxlen=100)\n",
    "    \n",
    "    prediction = model.predict(padded_query_sequence)\n",
    "    return prediction[0][0]\n",
    "\n",
    "\n",
    "custom_query = \"This movie was fantastic! I really enjoyed it.\"\n",
    "prediction = predict_custom_query(custom_query)\n",
    "print(f'Custom query: \"{custom_query}\"')\n",
    "print(f\"sentiment: {'POSITIVE' if prediction > 0.5 else 'NEGATIVE'}\")\n",
    "print(f'Prediction (0 = negative, 1 = positive): {prediction:.3f}')\n"
   ]
  },
  {
   "cell_type": "code",
   "execution_count": null,
   "metadata": {},
   "outputs": [],
   "source": []
  }
 ],
 "metadata": {
  "kernelspec": {
   "display_name": ".venv",
   "language": "python",
   "name": "python3"
  },
  "language_info": {
   "codemirror_mode": {
    "name": "ipython",
    "version": 3
   },
   "file_extension": ".py",
   "mimetype": "text/x-python",
   "name": "python",
   "nbconvert_exporter": "python",
   "pygments_lexer": "ipython3",
   "version": "3.10.14"
  }
 },
 "nbformat": 4,
 "nbformat_minor": 2
}
