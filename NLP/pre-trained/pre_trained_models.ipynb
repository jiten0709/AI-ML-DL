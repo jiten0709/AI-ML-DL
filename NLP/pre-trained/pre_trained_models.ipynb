{
 "cells": [
  {
   "cell_type": "code",
   "execution_count": null,
   "metadata": {},
   "outputs": [],
   "source": [
    "%pip install --upgrade transformers tensorflow\n"
   ]
  },
  {
   "cell_type": "markdown",
   "metadata": {},
   "source": [
    "# off-the-shelf sentiment analysis pipeline"
   ]
  },
  {
   "cell_type": "code",
   "execution_count": null,
   "metadata": {},
   "outputs": [],
   "source": [
    "# Load the off-the-shelf sentiment analysis pipeline\n",
    "\n",
    "from transformers import pipeline\n",
    "\n",
    "sentiment_analysis = pipeline(\"sentiment-analysis\")\n",
    "\n",
    "# Example texts \n",
    "\n",
    "texts = [\"I loved this movie\", \"This movie was terrible\", \"This movie was the worst movie I have ever seen\"]\n",
    "\n",
    "# Perform sentiment analysis \n",
    "\n",
    "results_off_the_shelf = sentiment_analysis(texts)\n",
    "\n",
    "# Print the results\n",
    "\n",
    "for text, result in zip(texts, results_off_the_shelf):\n",
    "    print(f\"Text: {text}\")\n",
    "    print(f\"Sentiment: {result['label']}\")\n",
    "    print(f\"Confidence: {result['score']}\")\n",
    "    print(\"-------------------------\")"
   ]
  },
  {
   "cell_type": "markdown",
   "metadata": {},
   "source": [
    "# using the TextBlob library to perform sentiment analysis"
   ]
  },
  {
   "cell_type": "code",
   "execution_count": 16,
   "metadata": {},
   "outputs": [
    {
     "name": "stdout",
     "output_type": "stream",
     "text": [
      "Collecting textblob\n",
      "  Downloading textblob-0.18.0.post0-py3-none-any.whl.metadata (4.5 kB)\n",
      "Collecting nltk>=3.8 (from textblob)\n",
      "  Downloading nltk-3.9.1-py3-none-any.whl.metadata (2.9 kB)\n",
      "Requirement already satisfied: click in /Users/hi/jitenStuff/MyGit/AI-ML-DL/.venv/lib/python3.10/site-packages (from nltk>=3.8->textblob) (8.1.8)\n",
      "Requirement already satisfied: joblib in /Users/hi/jitenStuff/MyGit/AI-ML-DL/.venv/lib/python3.10/site-packages (from nltk>=3.8->textblob) (1.4.2)\n",
      "Requirement already satisfied: regex>=2021.8.3 in /Users/hi/jitenStuff/MyGit/AI-ML-DL/.venv/lib/python3.10/site-packages (from nltk>=3.8->textblob) (2024.11.6)\n",
      "Requirement already satisfied: tqdm in /Users/hi/jitenStuff/MyGit/AI-ML-DL/.venv/lib/python3.10/site-packages (from nltk>=3.8->textblob) (4.67.1)\n",
      "Downloading textblob-0.18.0.post0-py3-none-any.whl (626 kB)\n",
      "\u001b[2K   \u001b[90m━━━━━━━━━━━━━━━━━━━━━━━━━━━━━━━━━━━━━━━━\u001b[0m \u001b[32m626.3/626.3 kB\u001b[0m \u001b[31m3.7 MB/s\u001b[0m eta \u001b[36m0:00:00\u001b[0m-:--:--\u001b[0m\n",
      "\u001b[?25hDownloading nltk-3.9.1-py3-none-any.whl (1.5 MB)\n",
      "\u001b[2K   \u001b[90m━━━━━━━━━━━━━━━━━━━━━━━━━━━━━━━━━━━━━━━━\u001b[0m \u001b[32m1.5/1.5 MB\u001b[0m \u001b[31m3.7 MB/s\u001b[0m eta \u001b[36m0:00:00\u001b[0ma \u001b[36m0:00:01\u001b[0m\n",
      "\u001b[?25hInstalling collected packages: nltk, textblob\n",
      "Successfully installed nltk-3.9.1 textblob-0.18.0.post0\n",
      "Note: you may need to restart the kernel to use updated packages.\n"
     ]
    },
    {
     "name": "stderr",
     "output_type": "stream",
     "text": [
      "UsageError: Line magic function `%python` not found (But cell magic `%%python` exists, did you mean that instead?).\n"
     ]
    }
   ],
   "source": [
    "%pip install textblob\n"
   ]
  },
  {
   "cell_type": "code",
   "execution_count": 17,
   "metadata": {},
   "outputs": [],
   "source": [
    "from textblob import TextBlob\n",
    "from tensorflow.keras.datasets import imdb\n",
    "from tensorflow.keras.preprocessing.sequence import pad_sequences\n",
    "import numpy as np\n"
   ]
  },
  {
   "cell_type": "code",
   "execution_count": 18,
   "metadata": {},
   "outputs": [
    {
     "name": "stdout",
     "output_type": "stream",
     "text": [
      "TextBlob Sentiment Analysis Accuracy: 66.50%\n"
     ]
    }
   ],
   "source": [
    "\n",
    "# Load the IMDb dataset\n",
    "max_words = 10000  # Only consider the top 10,000 most frequent words\n",
    "max_len = 200  # Pad sequences to a maximum length of 200 words\n",
    "\n",
    "(X_train, y_train), (X_test, y_test) = imdb.load_data(num_words=max_words)\n",
    "\n",
    "# Convert IMDb integer sequences back to words for TextBlob\n",
    "word_index = imdb.get_word_index()\n",
    "reverse_word_index = {v: k for k, v in word_index.items()}\n",
    "\n",
    "# Function to decode sequences back to text\n",
    "def decode_review(text_sequence):\n",
    "    return ' '.join([reverse_word_index.get(i - 3, '?') for i in text_sequence])\n",
    "\n",
    "# Decode some test sequences to evaluate with TextBlob\n",
    "X_test_texts = [decode_review(sequence) for sequence in X_test[:1000]]  # Evaluate 1000 reviews\n",
    "\n",
    "# Prepare input data for deep learning models (LSTM/GRU)\n",
    "X_train = pad_sequences(X_train, maxlen=max_len)\n",
    "X_test = pad_sequences(X_test, maxlen=max_len)\n",
    "\n",
    "# Use TextBlob for sentiment analysis on the test data\n",
    "textblob_sentiments = []\n",
    "\n",
    "for review in X_test_texts:\n",
    "    blob = TextBlob(review)\n",
    "    # TextBlob returns polarity: -1 (negative), 1 (positive), 0 (neutral)\n",
    "    sentiment_score = blob.sentiment.polarity\n",
    "    # Convert polarity to binary sentiment (similar to LSTM/GRU model)\n",
    "    sentiment_label = 1 if sentiment_score > 0 else 0  # 1: positive, 0: negative\n",
    "    textblob_sentiments.append(sentiment_label)\n",
    "\n",
    "# TextBlob predicted labels\n",
    "textblob_sentiments = np.array(textblob_sentiments)\n",
    "\n",
    "# Evaluate TextBlob accuracy\n",
    "textblob_accuracy = np.mean(textblob_sentiments == y_test[:1000])\n",
    "print(f\"TextBlob Sentiment Analysis Accuracy: {textblob_accuracy * 100:.2f}%\")\n"
   ]
  },
  {
   "cell_type": "code",
   "execution_count": null,
   "metadata": {},
   "outputs": [],
   "source": []
  }
 ],
 "metadata": {
  "kernelspec": {
   "display_name": "Python 3.10 (venv)",
   "language": "python",
   "name": "venv"
  },
  "language_info": {
   "codemirror_mode": {
    "name": "ipython",
    "version": 3
   },
   "file_extension": ".py",
   "mimetype": "text/x-python",
   "name": "python",
   "nbconvert_exporter": "python",
   "pygments_lexer": "ipython3",
   "version": "3.10.14"
  }
 },
 "nbformat": 4,
 "nbformat_minor": 4
}
