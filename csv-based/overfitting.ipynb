{
 "cells": [
  {
   "cell_type": "markdown",
   "metadata": {},
   "source": [
    "# how to reduce overfitting\n",
    "- 1. get more data\n",
    "- 2. reduce the complexity of the model\n",
    "- 3. add regularization\n",
    "- 4. add dropout\n",
    "- 5. data augmentation\n",
    "- 6. early stopping\n",
    "- 7. batch normalization\n",
    "- 8. ensemble learning\n",
    "- 9. cross validation\n",
    "- 10. transfer learning"
   ]
  },
  {
   "cell_type": "code",
   "execution_count": null,
   "metadata": {
    "vscode": {
     "languageId": "plaintext"
    }
   },
   "outputs": [],
   "source": []
  }
 ],
 "metadata": {
  "language_info": {
   "name": "python"
  }
 },
 "nbformat": 4,
 "nbformat_minor": 2
}
